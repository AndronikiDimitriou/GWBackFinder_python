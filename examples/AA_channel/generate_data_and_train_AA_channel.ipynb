{
 "cells": [
  {
   "cell_type": "code",
   "execution_count": 4,
   "metadata": {},
   "outputs": [
    {
     "name": "stdout",
     "output_type": "stream",
     "text": [
      "/opt/Androniki\n"
     ]
    }
   ],
   "source": [
    "cd .."
   ]
  },
  {
   "cell_type": "code",
   "execution_count": 5,
   "metadata": {},
   "outputs": [
    {
     "data": {
      "text/plain": [
       "'/opt/Androniki'"
      ]
     },
     "execution_count": 5,
     "metadata": {},
     "output_type": "execute_result"
    }
   ],
   "source": [
    "import os\n",
    "import sys\n",
    "from multiprocessing import cpu_count\n",
    "os.environ[\"JULIA_NUM_THREADS\"] = str(1)\n",
    "from juliacall import Main as jl\n",
    "\n",
    "# Get the current working directory\n",
    "current_directory = os.getcwd()\n",
    "current_directory"
   ]
  },
  {
   "cell_type": "code",
   "execution_count": null,
   "metadata": {},
   "outputs": [],
   "source": [
    "#os.system(\"git clone https://github.com/AndronikiDimitriou/GWBackFinder.jl.git\")\n",
    "os.system(\"git clone https://github.com/AndronikiDimitriou/GWBackFinder.jl.git\")\n"
   ]
  },
  {
   "cell_type": "code",
   "execution_count": 6,
   "metadata": {},
   "outputs": [],
   "source": [
    "\n",
    "# Specify the repository name\n",
    "repository_name_julia = \"GWBackFinder.jl\"\n",
    "\n",
    "# Full path to the cloned repository\n",
    "cloned_repository_path_julia = os.path.join(current_directory, repository_name_julia)\n"
   ]
  },
  {
   "cell_type": "code",
   "execution_count": 7,
   "metadata": {},
   "outputs": [
    {
     "name": "stderr",
     "output_type": "stream",
     "text": [
      "  Activating project at `/opt/Androniki/GWBackFinder.jl`\n"
     ]
    }
   ],
   "source": [
    "sys.path.append(current_directory)\n",
    "jl.Pkg.activate(cloned_repository_path_julia)\n",
    "jl.seval(\"using GWBackFinder\")"
   ]
  },
  {
   "cell_type": "code",
   "execution_count": null,
   "metadata": {},
   "outputs": [],
   "source": [
    "# Clone the GitHub repositories\n",
    "os.system(\"git clone https://github.com/AndronikiDimitriou/GWBackFinder_python.git\")\n"
   ]
  },
  {
   "cell_type": "code",
   "execution_count": 8,
   "metadata": {},
   "outputs": [
    {
     "name": "stderr",
     "output_type": "stream",
     "text": [
      "/opt/miniconda3/envs/julia/lib/python3.9/site-packages/tqdm/auto.py:21: TqdmWarning: IProgress not found. Please update jupyter and ipywidgets. See https://ipywidgets.readthedocs.io/en/stable/user_install.html\n",
      "  from .autonotebook import tqdm as notebook_tqdm\n"
     ]
    }
   ],
   "source": [
    "# Specify the repository name\n",
    "repository_name_python = \"GWBackFinder_python\"\n",
    "\n",
    "# Full path to the cloned repository\n",
    "cloned_repository_path_python = os.path.join(current_directory, repository_name_python)\n",
    "\n",
    "sys.path.append(cloned_repository_path_python)\n",
    "from src.GWBackFinder import prior as GW_prior\n",
    "from src.GWBackFinder import train as GW_train\n",
    "\n",
    "from src.GWBackFinder import plot_signal as pl\n",
    "\n",
    "import numpy as np\n",
    "import matplotlib.pyplot as plt\n",
    "from sbi import utils as utils\n",
    "from sbi import analysis as analysis\n",
    "import pickle\n",
    "import matplotlib.pyplot as plt\n",
    "import h5py\n",
    "import torch\n",
    "from tqdm import tqdm\n"
   ]
  },
  {
   "cell_type": "code",
   "execution_count": 9,
   "metadata": {},
   "outputs": [
    {
     "name": "stderr",
     "output_type": "stream",
     "text": [
      "/home/nookie/.local/lib/python3.9/site-packages/sbi/utils/user_input_checks_utils.py:69: UserWarning: Prior is lacking mean attribute, estimating prior mean from samples.\n",
      "  warnings.warn(\n",
      "/home/nookie/.local/lib/python3.9/site-packages/sbi/utils/user_input_checks_utils.py:80: UserWarning: Prior is lacking variance attribute, estimating prior variance from\n",
      "                samples...\n",
      "  warnings.warn(\n"
     ]
    }
   ],
   "source": [
    "custom_prior=GW_prior.get_prior()\n",
    "thetas=custom_prior.sample(100)\n",
    "thetas_numpy=thetas.numpy()"
   ]
  },
  {
   "cell_type": "markdown",
   "metadata": {},
   "source": [
    "Create or open an HDF5 file in write mode<br>\n",
    "%%"
   ]
  },
  {
   "cell_type": "code",
   "execution_count": 10,
   "metadata": {},
   "outputs": [],
   "source": [
    "dataset_name = \"thetas\"\n",
    "with h5py.File(cloned_repository_path_python+\"/parameters.h5\", \"w\") as file:\n",
    "    # Create a dataset (replace \"dataset_name\" and data with your actual dataset name and content)\n",
    "    data = thetas_numpy\n",
    "    # Save the data to the HDF5 file\n",
    "    file.create_dataset(dataset_name, data=data)"
   ]
  },
  {
   "cell_type": "code",
   "execution_count": 11,
   "metadata": {},
   "outputs": [],
   "source": [
    "f=jl.range(3*1e-5, 0.5, step=1e-6)\n",
    "idx,idx26,logbins_26,logbins,f_filtered = jl.GWBackFinder.binning(f)\n",
    "Sb1, Sb2, Sb3, Sb4, Sb5, Sb6, Sb7, Sb8, Sb9, Sb10, Sb11, Sb12, Sb13, Sb14, Sb15, Sb16, Sb17, Sb18, Sb19, Sb20, Sb21, Sb22, Sb23, Sb24, Sb25, Sb26 = logbins_26[0],logbins_26[1], logbins_26[2], logbins_26[3], logbins_26[4], logbins_26[5], logbins_26[6], logbins_26[7], logbins_26[8], logbins_26[9], logbins_26[10], logbins_26[11], logbins_26[12], logbins_26[13], logbins_26[14], logbins_26[15], logbins_26[16], logbins_26[17], logbins_26[18], logbins_26[19], logbins_26[20], logbins_26[21], logbins_26[22], logbins_26[23], logbins_26[24], logbins_26[25]\n",
    "#%%"
   ]
  },
  {
   "cell_type": "code",
   "execution_count": null,
   "metadata": {},
   "outputs": [],
   "source": [
    "for i in tqdm(range(len(thetas_numpy))):\n",
    "    Data_total=jl.GWBackFinder.model_train_data(thetas_numpy[i,:], f, idx, f_filtered,logbins, Sb1, Sb2  , Sb3  , Sb4  , Sb5  , Sb6  ,Sb7  , Sb8  , Sb9  , Sb10  , Sb11  , Sb12  , Sb13  , Sb14  , Sb15  ,\n",
    "    Sb16  , Sb17  , Sb18  , Sb19  , Sb20  , Sb21  , Sb22  , Sb23  , Sb24  , Sb25 )\n",
    "    jl.GWBackFinder.write_sample(Data_total,\"./$(i-1).jld2\")"
   ]
  },
  {
   "cell_type": "code",
   "execution_count": 24,
   "metadata": {},
   "outputs": [
    {
     "name": "stderr",
     "output_type": "stream",
     "text": [
      "  Activating new project at `/home/zaldivar/Documents/Androniki/Github/GWBackFinder.jl`\n"
     ]
    },
    {
     "ename": "JuliaError",
     "evalue": "LoadError: ArgumentError: Package ProgressMeter not found in current path.\n- Run `import Pkg; Pkg.add(\"ProgressMeter\")` to install the ProgressMeter package.\nStacktrace:\n  [1] macro expansion\n    @ Base ./loading.jl:1766 [inlined]\n  [2] macro expansion\n    @ Base ./lock.jl:267 [inlined]\n  [3] __require(into::Module, mod::Symbol)\n    @ Base ./loading.jl:1747\n  [4] #invoke_in_world#3\n    @ Base ./essentials.jl:921 [inlined]\n  [5] invoke_in_world\n    @ Base ./essentials.jl:918 [inlined]\n  [6] require(into::Module, mod::Symbol)\n    @ Base ./loading.jl:1740\n  [7] include(fname::String)\n    @ Base.MainInclude ./client.jl:489\n  [8] pyjlany_call(self::typeof(include), args_::Py, kwargs_::Py)\n    @ PythonCall ~/.julia/packages/PythonCall/wXfah/src/jlwrap/any.jl:37\n  [9] _pyjl_callmethod(f::Any, self_::Ptr{PythonCall.C.PyObject}, args_::Ptr{PythonCall.C.PyObject}, nargs::Int64)\n    @ PythonCall ~/.julia/packages/PythonCall/wXfah/src/jlwrap/base.jl:69\n [10] _pyjl_callmethod(o::Ptr{PythonCall.C.PyObject}, args::Ptr{PythonCall.C.PyObject})\n    @ PythonCall.C ~/.julia/packages/PythonCall/wXfah/src/cpython/jlwrap.jl:47\nin expression starting at /opt/Androniki/GWBackFinder_python/examples/AA_channel/data_generation_AA_channel.jl:5",
     "output_type": "error",
     "traceback": [
      "\u001b[0;31m---------------------------------------------------------------------------\u001b[0m",
      "\u001b[0;31mJuliaError\u001b[0m                                Traceback (most recent call last)",
      "Cell \u001b[0;32mIn[24], line 1\u001b[0m\n\u001b[0;32m----> 1\u001b[0m \u001b[43mjl\u001b[49m\u001b[38;5;241;43m.\u001b[39;49m\u001b[43minclude\u001b[49m\u001b[43m(\u001b[49m\u001b[38;5;124;43m\"\u001b[39;49m\u001b[38;5;124;43m/opt/Androniki/GWBackFinder_python/examples/AA_channel/data_generation_AA_channel.jl\u001b[39;49m\u001b[38;5;124;43m\"\u001b[39;49m\u001b[43m)\u001b[49m\n",
      "File \u001b[0;32m~/.julia/packages/PythonCall/wXfah/src/jlwrap/any.jl:208\u001b[0m, in \u001b[0;36m__call__\u001b[0;34m(self, *args, **kwargs)\u001b[0m\n\u001b[1;32m    206\u001b[0m     return ValueBase.__dir__(self) + self._jl_callmethod($(pyjl_methodnum(pyjlany_dir)))\n\u001b[1;32m    207\u001b[0m def __call__(self, *args, **kwargs):\n\u001b[0;32m--> 208\u001b[0m     return self._jl_callmethod($(pyjl_methodnum(pyjlany_call)), args, kwargs)\n\u001b[1;32m    209\u001b[0m def __bool__(self):\n\u001b[1;32m    210\u001b[0m     return True\n",
      "\u001b[0;31mJuliaError\u001b[0m: LoadError: ArgumentError: Package ProgressMeter not found in current path.\n- Run `import Pkg; Pkg.add(\"ProgressMeter\")` to install the ProgressMeter package.\nStacktrace:\n  [1] macro expansion\n    @ Base ./loading.jl:1766 [inlined]\n  [2] macro expansion\n    @ Base ./lock.jl:267 [inlined]\n  [3] __require(into::Module, mod::Symbol)\n    @ Base ./loading.jl:1747\n  [4] #invoke_in_world#3\n    @ Base ./essentials.jl:921 [inlined]\n  [5] invoke_in_world\n    @ Base ./essentials.jl:918 [inlined]\n  [6] require(into::Module, mod::Symbol)\n    @ Base ./loading.jl:1740\n  [7] include(fname::String)\n    @ Base.MainInclude ./client.jl:489\n  [8] pyjlany_call(self::typeof(include), args_::Py, kwargs_::Py)\n    @ PythonCall ~/.julia/packages/PythonCall/wXfah/src/jlwrap/any.jl:37\n  [9] _pyjl_callmethod(f::Any, self_::Ptr{PythonCall.C.PyObject}, args_::Ptr{PythonCall.C.PyObject}, nargs::Int64)\n    @ PythonCall ~/.julia/packages/PythonCall/wXfah/src/jlwrap/base.jl:69\n [10] _pyjl_callmethod(o::Ptr{PythonCall.C.PyObject}, args::Ptr{PythonCall.C.PyObject})\n    @ PythonCall.C ~/.julia/packages/PythonCall/wXfah/src/cpython/jlwrap.jl:47\nin expression starting at /opt/Androniki/GWBackFinder_python/examples/AA_channel/data_generation_AA_channel.jl:5"
     ]
    }
   ],
   "source": [
    "jl.include(\"/opt/Androniki/GWBackFinder_python/examples/AA_channel/data_generation_AA_channel.jl\")"
   ]
  },
  {
   "cell_type": "markdown",
   "metadata": {},
   "source": [
    "%%<br>\n",
    "use os to run the julia script"
   ]
  },
  {
   "cell_type": "code",
   "execution_count": 55,
   "metadata": {},
   "outputs": [],
   "source": [
    "cloned_repository_path_data_gen = os.path.join(current_directory, repository_name_python,\"examples\",\"AA_channel/data_generation_AA_channel.jl\")\n"
   ]
  },
  {
   "cell_type": "code",
   "execution_count": 26,
   "metadata": {},
   "outputs": [],
   "source": [
    "import subprocess"
   ]
  },
  {
   "cell_type": "code",
   "execution_count": 32,
   "metadata": {},
   "outputs": [
    {
     "name": "stderr",
     "output_type": "stream",
     "text": [
      "sh: 1: /home/zaldivar/.local/bin/julia: not found\n"
     ]
    },
    {
     "data": {
      "text/plain": [
       "32512"
      ]
     },
     "execution_count": 32,
     "metadata": {},
     "output_type": "execute_result"
    }
   ],
   "source": [
    "os.system(f\"{current_path} -t 5 data_generation_AA_channel.jl -i parameters.h5 -o data_signal -d a.h5 -f 100\")"
   ]
  },
  {
   "cell_type": "code",
   "execution_count": 39,
   "metadata": {},
   "outputs": [
    {
     "ename": "NameError",
     "evalue": "name 'julia' is not defined",
     "output_type": "error",
     "traceback": [
      "\u001b[0;31m---------------------------------------------------------------------------\u001b[0m",
      "\u001b[0;31mNameError\u001b[0m                                 Traceback (most recent call last)",
      "Cell \u001b[0;32mIn[39], line 1\u001b[0m\n\u001b[0;32m----> 1\u001b[0m \u001b[43mjulia\u001b[49m\u001b[38;5;241m.\u001b[39m__version__\n",
      "\u001b[0;31mNameError\u001b[0m: name 'julia' is not defined"
     ]
    }
   ],
   "source": []
  },
  {
   "cell_type": "code",
   "execution_count": 38,
   "metadata": {},
   "outputs": [
    {
     "ename": "FileNotFoundError",
     "evalue": "[Errno 2] No such file or directory: '/home/zaldivar/.local/bin/julia'",
     "output_type": "error",
     "traceback": [
      "\u001b[0;31m---------------------------------------------------------------------------\u001b[0m",
      "\u001b[0;31mFileNotFoundError\u001b[0m                         Traceback (most recent call last)",
      "Cell \u001b[0;32mIn[38], line 16\u001b[0m\n\u001b[1;32m     13\u001b[0m command \u001b[38;5;241m=\u001b[39m [julia_executable_path, \u001b[38;5;124m\"\u001b[39m\u001b[38;5;124m-t\u001b[39m\u001b[38;5;124m\"\u001b[39m, \u001b[38;5;124m\"\u001b[39m\u001b[38;5;124m5\u001b[39m\u001b[38;5;124m\"\u001b[39m, julia_script_path] \u001b[38;5;241m+\u001b[39m arguments\n\u001b[1;32m     15\u001b[0m \u001b[38;5;66;03m# Run the command using subprocess\u001b[39;00m\n\u001b[0;32m---> 16\u001b[0m \u001b[43msubprocess\u001b[49m\u001b[38;5;241;43m.\u001b[39;49m\u001b[43mrun\u001b[49m\u001b[43m(\u001b[49m\u001b[43mcommand\u001b[49m\u001b[43m)\u001b[49m\n",
      "File \u001b[0;32m/opt/miniconda3/envs/julia/lib/python3.9/subprocess.py:505\u001b[0m, in \u001b[0;36mrun\u001b[0;34m(input, capture_output, timeout, check, *popenargs, **kwargs)\u001b[0m\n\u001b[1;32m    502\u001b[0m     kwargs[\u001b[38;5;124m'\u001b[39m\u001b[38;5;124mstdout\u001b[39m\u001b[38;5;124m'\u001b[39m] \u001b[38;5;241m=\u001b[39m PIPE\n\u001b[1;32m    503\u001b[0m     kwargs[\u001b[38;5;124m'\u001b[39m\u001b[38;5;124mstderr\u001b[39m\u001b[38;5;124m'\u001b[39m] \u001b[38;5;241m=\u001b[39m PIPE\n\u001b[0;32m--> 505\u001b[0m \u001b[38;5;28;01mwith\u001b[39;00m \u001b[43mPopen\u001b[49m\u001b[43m(\u001b[49m\u001b[38;5;241;43m*\u001b[39;49m\u001b[43mpopenargs\u001b[49m\u001b[43m,\u001b[49m\u001b[43m \u001b[49m\u001b[38;5;241;43m*\u001b[39;49m\u001b[38;5;241;43m*\u001b[39;49m\u001b[43mkwargs\u001b[49m\u001b[43m)\u001b[49m \u001b[38;5;28;01mas\u001b[39;00m process:\n\u001b[1;32m    506\u001b[0m     \u001b[38;5;28;01mtry\u001b[39;00m:\n\u001b[1;32m    507\u001b[0m         stdout, stderr \u001b[38;5;241m=\u001b[39m process\u001b[38;5;241m.\u001b[39mcommunicate(\u001b[38;5;28minput\u001b[39m, timeout\u001b[38;5;241m=\u001b[39mtimeout)\n",
      "File \u001b[0;32m/opt/miniconda3/envs/julia/lib/python3.9/subprocess.py:951\u001b[0m, in \u001b[0;36mPopen.__init__\u001b[0;34m(self, args, bufsize, executable, stdin, stdout, stderr, preexec_fn, close_fds, shell, cwd, env, universal_newlines, startupinfo, creationflags, restore_signals, start_new_session, pass_fds, user, group, extra_groups, encoding, errors, text, umask)\u001b[0m\n\u001b[1;32m    947\u001b[0m         \u001b[38;5;28;01mif\u001b[39;00m \u001b[38;5;28mself\u001b[39m\u001b[38;5;241m.\u001b[39mtext_mode:\n\u001b[1;32m    948\u001b[0m             \u001b[38;5;28mself\u001b[39m\u001b[38;5;241m.\u001b[39mstderr \u001b[38;5;241m=\u001b[39m io\u001b[38;5;241m.\u001b[39mTextIOWrapper(\u001b[38;5;28mself\u001b[39m\u001b[38;5;241m.\u001b[39mstderr,\n\u001b[1;32m    949\u001b[0m                     encoding\u001b[38;5;241m=\u001b[39mencoding, errors\u001b[38;5;241m=\u001b[39merrors)\n\u001b[0;32m--> 951\u001b[0m     \u001b[38;5;28;43mself\u001b[39;49m\u001b[38;5;241;43m.\u001b[39;49m\u001b[43m_execute_child\u001b[49m\u001b[43m(\u001b[49m\u001b[43margs\u001b[49m\u001b[43m,\u001b[49m\u001b[43m \u001b[49m\u001b[43mexecutable\u001b[49m\u001b[43m,\u001b[49m\u001b[43m \u001b[49m\u001b[43mpreexec_fn\u001b[49m\u001b[43m,\u001b[49m\u001b[43m \u001b[49m\u001b[43mclose_fds\u001b[49m\u001b[43m,\u001b[49m\n\u001b[1;32m    952\u001b[0m \u001b[43m                        \u001b[49m\u001b[43mpass_fds\u001b[49m\u001b[43m,\u001b[49m\u001b[43m \u001b[49m\u001b[43mcwd\u001b[49m\u001b[43m,\u001b[49m\u001b[43m \u001b[49m\u001b[43menv\u001b[49m\u001b[43m,\u001b[49m\n\u001b[1;32m    953\u001b[0m \u001b[43m                        \u001b[49m\u001b[43mstartupinfo\u001b[49m\u001b[43m,\u001b[49m\u001b[43m \u001b[49m\u001b[43mcreationflags\u001b[49m\u001b[43m,\u001b[49m\u001b[43m \u001b[49m\u001b[43mshell\u001b[49m\u001b[43m,\u001b[49m\n\u001b[1;32m    954\u001b[0m \u001b[43m                        \u001b[49m\u001b[43mp2cread\u001b[49m\u001b[43m,\u001b[49m\u001b[43m \u001b[49m\u001b[43mp2cwrite\u001b[49m\u001b[43m,\u001b[49m\n\u001b[1;32m    955\u001b[0m \u001b[43m                        \u001b[49m\u001b[43mc2pread\u001b[49m\u001b[43m,\u001b[49m\u001b[43m \u001b[49m\u001b[43mc2pwrite\u001b[49m\u001b[43m,\u001b[49m\n\u001b[1;32m    956\u001b[0m \u001b[43m                        \u001b[49m\u001b[43merrread\u001b[49m\u001b[43m,\u001b[49m\u001b[43m \u001b[49m\u001b[43merrwrite\u001b[49m\u001b[43m,\u001b[49m\n\u001b[1;32m    957\u001b[0m \u001b[43m                        \u001b[49m\u001b[43mrestore_signals\u001b[49m\u001b[43m,\u001b[49m\n\u001b[1;32m    958\u001b[0m \u001b[43m                        \u001b[49m\u001b[43mgid\u001b[49m\u001b[43m,\u001b[49m\u001b[43m \u001b[49m\u001b[43mgids\u001b[49m\u001b[43m,\u001b[49m\u001b[43m \u001b[49m\u001b[43muid\u001b[49m\u001b[43m,\u001b[49m\u001b[43m \u001b[49m\u001b[43mumask\u001b[49m\u001b[43m,\u001b[49m\n\u001b[1;32m    959\u001b[0m \u001b[43m                        \u001b[49m\u001b[43mstart_new_session\u001b[49m\u001b[43m)\u001b[49m\n\u001b[1;32m    960\u001b[0m \u001b[38;5;28;01mexcept\u001b[39;00m:\n\u001b[1;32m    961\u001b[0m     \u001b[38;5;66;03m# Cleanup if the child failed starting.\u001b[39;00m\n\u001b[1;32m    962\u001b[0m     \u001b[38;5;28;01mfor\u001b[39;00m f \u001b[38;5;129;01min\u001b[39;00m \u001b[38;5;28mfilter\u001b[39m(\u001b[38;5;28;01mNone\u001b[39;00m, (\u001b[38;5;28mself\u001b[39m\u001b[38;5;241m.\u001b[39mstdin, \u001b[38;5;28mself\u001b[39m\u001b[38;5;241m.\u001b[39mstdout, \u001b[38;5;28mself\u001b[39m\u001b[38;5;241m.\u001b[39mstderr)):\n",
      "File \u001b[0;32m/opt/miniconda3/envs/julia/lib/python3.9/subprocess.py:1837\u001b[0m, in \u001b[0;36mPopen._execute_child\u001b[0;34m(self, args, executable, preexec_fn, close_fds, pass_fds, cwd, env, startupinfo, creationflags, shell, p2cread, p2cwrite, c2pread, c2pwrite, errread, errwrite, restore_signals, gid, gids, uid, umask, start_new_session)\u001b[0m\n\u001b[1;32m   1835\u001b[0m     \u001b[38;5;28;01mif\u001b[39;00m errno_num \u001b[38;5;241m!=\u001b[39m \u001b[38;5;241m0\u001b[39m:\n\u001b[1;32m   1836\u001b[0m         err_msg \u001b[38;5;241m=\u001b[39m os\u001b[38;5;241m.\u001b[39mstrerror(errno_num)\n\u001b[0;32m-> 1837\u001b[0m     \u001b[38;5;28;01mraise\u001b[39;00m child_exception_type(errno_num, err_msg, err_filename)\n\u001b[1;32m   1838\u001b[0m \u001b[38;5;28;01mraise\u001b[39;00m child_exception_type(err_msg)\n",
      "\u001b[0;31mFileNotFoundError\u001b[0m: [Errno 2] No such file or directory: '/home/zaldivar/.local/bin/julia'"
     ]
    }
   ],
   "source": [
    "import subprocess\n",
    "\n",
    "# Replace \"/full/path/to/julia\" with the actual path to your Julia executable\n",
    "julia_executable_path = \"/home/zaldivar/.local/bin/julia\"\n",
    "\n",
    "# Replace \"/full/path/to/data_generation_AA_channel.jl\" with the actual path to your Julia script\n",
    "julia_script_path = \"/cloned_repository_path_python/examples/AA_channel/data_generation_AA_channel.jl\"\n",
    "\n",
    "# Specify the arguments for your Julia script\n",
    "arguments = [\"-i\", \"parameters.h5\", \"-o\", \"data_signal\", \"-d\", \"a.h5\", \"-f\", \"100\"]\n",
    "\n",
    "# Construct the command to run the Julia script with the specified Julia executable path\n",
    "command = [julia_executable_path, \"-t\", \"5\", julia_script_path] + arguments\n",
    "\n",
    "# Run the command using subprocess\n",
    "subprocess.run(command)"
   ]
  },
  {
   "cell_type": "code",
   "execution_count": 27,
   "metadata": {},
   "outputs": [
    {
     "name": "stderr",
     "output_type": "stream",
     "text": [
      "/bin/sh: 1: /home/zaldivar/.local/bin/julia: not found\n"
     ]
    }
   ],
   "source": [
    "\n",
    "command = f\"{os.environ['PATH'] } -t 5 ./data_generation_AA_channel.jl -i parameters.h5 -o data_signal -d a.h5 -f 100\"\n",
    "\n",
    "result = subprocess.run(command, shell=True)\n"
   ]
  },
  {
   "cell_type": "code",
   "execution_count": null,
   "metadata": {},
   "outputs": [],
   "source": []
  },
  {
   "cell_type": "code",
   "execution_count": 66,
   "metadata": {},
   "outputs": [
    {
     "name": "stdout",
     "output_type": "stream",
     "text": [
      "/opt/Androniki/GWBackFinder_python/examples/AA_channel\n"
     ]
    }
   ],
   "source": [
    " cd /opt/Androniki/GWBackFinder_python/examples/AA_channel/"
   ]
  },
  {
   "cell_type": "markdown",
   "metadata": {},
   "source": [
    "%"
   ]
  },
  {
   "cell_type": "code",
   "execution_count": null,
   "metadata": {},
   "outputs": [],
   "source": [
    "gw_total_list=[]\n",
    "for i in tqdm(range(1,len(thetas_numpy)+1)):\n",
    "    f = h5py.File(basepath+\"/data_gen/\"+str(i-1)+\".jld2\", \"r\")    \n",
    "    gw_total_list.append(np.array(f[\"data\"]))\n",
    "  \n",
    "#%%      \n",
    "## convert to tensor \n",
    "gw_total=torch.tensor(np.array(gw_total_list) , dtype=torch.float32)"
   ]
  },
  {
   "cell_type": "code",
   "execution_count": null,
   "metadata": {},
   "outputs": [],
   "source": [
    "print(thetas.shape)\n",
    "print(gw_total.shape)"
   ]
  },
  {
   "cell_type": "markdown",
   "metadata": {},
   "source": [
    "%%"
   ]
  },
  {
   "cell_type": "markdown",
   "metadata": {},
   "source": [
    " train and save inference in the file train_200.pkl"
   ]
  },
  {
   "cell_type": "code",
   "execution_count": null,
   "metadata": {},
   "outputs": [],
   "source": [
    "GW_train.train(thetas=thetas, gw_total=gw_total, prior=custom_prior, resume_training=False, validation_fraction=0.2, \n",
    "          learning_rate=1e-4, show_train_summary=True, max_num_epochs=200, \n",
    "          path_saved=None, path_inference=basepath+\"/\", name_file=\"train_200_11.pkl\", model_type=\"nsf\", hidden_features=64, num_transforms=3)"
   ]
  },
  {
   "cell_type": "markdown",
   "metadata": {},
   "source": [
    "%%<br>\n",
    " get posterior from the train_200.pkl and save it in posterior.pkl"
   ]
  },
  {
   "cell_type": "code",
   "execution_count": null,
   "metadata": {},
   "outputs": [],
   "source": [
    "GW_train.get_posterior(basepath+\"/\"+\"train_200_11.pkl\",\"posterior.pkl\")"
   ]
  },
  {
   "cell_type": "markdown",
   "metadata": {},
   "source": [
    "%%"
   ]
  }
 ],
 "metadata": {
  "kernelspec": {
   "display_name": "Python 3 (ipykernel)",
   "language": "python",
   "name": "python3"
  },
  "language_info": {
   "codemirror_mode": {
    "name": "ipython",
    "version": 3
   },
   "file_extension": ".py",
   "mimetype": "text/x-python",
   "name": "python",
   "nbconvert_exporter": "python",
   "pygments_lexer": "ipython3",
   "version": "3.9.18"
  }
 },
 "nbformat": 4,
 "nbformat_minor": 4
}
